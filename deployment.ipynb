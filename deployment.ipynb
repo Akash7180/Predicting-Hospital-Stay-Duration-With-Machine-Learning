{
 "cells": [
  {
   "cell_type": "code",
   "execution_count": 1,
   "id": "a82efa20-e64b-409c-a83b-2335758f4d5b",
   "metadata": {},
   "outputs": [
    {
     "name": "stdout",
     "output_type": "stream",
     "text": [
      "Requirement already satisfied: gradio in c:\\users\\akash\\anaconda3\\lib\\site-packages (5.1.0)\n",
      "Requirement already satisfied: aiofiles<24.0,>=22.0 in c:\\users\\akash\\anaconda3\\lib\\site-packages (from gradio) (23.2.1)\n",
      "Requirement already satisfied: anyio<5.0,>=3.0 in c:\\users\\akash\\anaconda3\\lib\\site-packages (from gradio) (4.2.0)\n",
      "Requirement already satisfied: fastapi<1.0 in c:\\users\\akash\\anaconda3\\lib\\site-packages (from gradio) (0.115.2)\n",
      "Requirement already satisfied: ffmpy in c:\\users\\akash\\anaconda3\\lib\\site-packages (from gradio) (0.4.0)\n",
      "Requirement already satisfied: gradio-client==1.4.0 in c:\\users\\akash\\anaconda3\\lib\\site-packages (from gradio) (1.4.0)\n",
      "Requirement already satisfied: httpx>=0.24.1 in c:\\users\\akash\\anaconda3\\lib\\site-packages (from gradio) (0.27.0)\n",
      "Requirement already satisfied: huggingface-hub>=0.25.1 in c:\\users\\akash\\anaconda3\\lib\\site-packages (from gradio) (0.25.2)\n",
      "Requirement already satisfied: jinja2<4.0 in c:\\users\\akash\\anaconda3\\lib\\site-packages (from gradio) (3.1.4)\n",
      "Requirement already satisfied: markupsafe~=2.0 in c:\\users\\akash\\anaconda3\\lib\\site-packages (from gradio) (2.1.3)\n",
      "Requirement already satisfied: numpy<3.0,>=1.0 in c:\\users\\akash\\anaconda3\\lib\\site-packages (from gradio) (1.26.4)\n",
      "Requirement already satisfied: orjson~=3.0 in c:\\users\\akash\\anaconda3\\lib\\site-packages (from gradio) (3.10.7)\n",
      "Requirement already satisfied: packaging in c:\\users\\akash\\anaconda3\\lib\\site-packages (from gradio) (23.2)\n",
      "Requirement already satisfied: pandas<3.0,>=1.0 in c:\\users\\akash\\anaconda3\\lib\\site-packages (from gradio) (2.2.2)\n",
      "Requirement already satisfied: pillow<11.0,>=8.0 in c:\\users\\akash\\anaconda3\\lib\\site-packages (from gradio) (10.3.0)\n",
      "Requirement already satisfied: pydantic>=2.0 in c:\\users\\akash\\anaconda3\\lib\\site-packages (from gradio) (2.5.3)\n",
      "Requirement already satisfied: pydub in c:\\users\\akash\\anaconda3\\lib\\site-packages (from gradio) (0.25.1)\n",
      "Requirement already satisfied: python-multipart>=0.0.9 in c:\\users\\akash\\anaconda3\\lib\\site-packages (from gradio) (0.0.12)\n",
      "Requirement already satisfied: pyyaml<7.0,>=5.0 in c:\\users\\akash\\anaconda3\\lib\\site-packages (from gradio) (6.0.1)\n",
      "Requirement already satisfied: ruff>=0.2.2 in c:\\users\\akash\\anaconda3\\lib\\site-packages (from gradio) (0.6.9)\n",
      "Requirement already satisfied: semantic-version~=2.0 in c:\\users\\akash\\anaconda3\\lib\\site-packages (from gradio) (2.10.0)\n",
      "Requirement already satisfied: tomlkit==0.12.0 in c:\\users\\akash\\anaconda3\\lib\\site-packages (from gradio) (0.12.0)\n",
      "Requirement already satisfied: typer<1.0,>=0.12 in c:\\users\\akash\\anaconda3\\lib\\site-packages (from gradio) (0.12.5)\n",
      "Requirement already satisfied: typing-extensions~=4.0 in c:\\users\\akash\\anaconda3\\lib\\site-packages (from gradio) (4.11.0)\n",
      "Requirement already satisfied: uvicorn>=0.14.0 in c:\\users\\akash\\anaconda3\\lib\\site-packages (from gradio) (0.32.0)\n",
      "Requirement already satisfied: fsspec in c:\\users\\akash\\anaconda3\\lib\\site-packages (from gradio-client==1.4.0->gradio) (2024.3.1)\n",
      "Requirement already satisfied: websockets<13.0,>=10.0 in c:\\users\\akash\\anaconda3\\lib\\site-packages (from gradio-client==1.4.0->gradio) (12.0)\n",
      "Requirement already satisfied: idna>=2.8 in c:\\users\\akash\\anaconda3\\lib\\site-packages (from anyio<5.0,>=3.0->gradio) (3.7)\n",
      "Requirement already satisfied: sniffio>=1.1 in c:\\users\\akash\\anaconda3\\lib\\site-packages (from anyio<5.0,>=3.0->gradio) (1.3.0)\n",
      "Requirement already satisfied: starlette<0.41.0,>=0.37.2 in c:\\users\\akash\\anaconda3\\lib\\site-packages (from fastapi<1.0->gradio) (0.40.0)\n",
      "Requirement already satisfied: certifi in c:\\users\\akash\\anaconda3\\lib\\site-packages (from httpx>=0.24.1->gradio) (2024.7.4)\n",
      "Requirement already satisfied: httpcore==1.* in c:\\users\\akash\\anaconda3\\lib\\site-packages (from httpx>=0.24.1->gradio) (1.0.2)\n",
      "Requirement already satisfied: h11<0.15,>=0.13 in c:\\users\\akash\\anaconda3\\lib\\site-packages (from httpcore==1.*->httpx>=0.24.1->gradio) (0.14.0)\n",
      "Requirement already satisfied: filelock in c:\\users\\akash\\anaconda3\\lib\\site-packages (from huggingface-hub>=0.25.1->gradio) (3.13.1)\n",
      "Requirement already satisfied: requests in c:\\users\\akash\\anaconda3\\lib\\site-packages (from huggingface-hub>=0.25.1->gradio) (2.32.2)\n",
      "Requirement already satisfied: tqdm>=4.42.1 in c:\\users\\akash\\anaconda3\\lib\\site-packages (from huggingface-hub>=0.25.1->gradio) (4.66.4)\n",
      "Requirement already satisfied: python-dateutil>=2.8.2 in c:\\users\\akash\\anaconda3\\lib\\site-packages (from pandas<3.0,>=1.0->gradio) (2.9.0.post0)\n",
      "Requirement already satisfied: pytz>=2020.1 in c:\\users\\akash\\anaconda3\\lib\\site-packages (from pandas<3.0,>=1.0->gradio) (2024.1)\n",
      "Requirement already satisfied: tzdata>=2022.7 in c:\\users\\akash\\anaconda3\\lib\\site-packages (from pandas<3.0,>=1.0->gradio) (2023.3)\n",
      "Requirement already satisfied: annotated-types>=0.4.0 in c:\\users\\akash\\anaconda3\\lib\\site-packages (from pydantic>=2.0->gradio) (0.6.0)\n",
      "Requirement already satisfied: pydantic-core==2.14.6 in c:\\users\\akash\\anaconda3\\lib\\site-packages (from pydantic>=2.0->gradio) (2.14.6)\n",
      "Requirement already satisfied: click>=8.0.0 in c:\\users\\akash\\anaconda3\\lib\\site-packages (from typer<1.0,>=0.12->gradio) (8.1.7)\n",
      "Requirement already satisfied: shellingham>=1.3.0 in c:\\users\\akash\\anaconda3\\lib\\site-packages (from typer<1.0,>=0.12->gradio) (1.5.4)\n",
      "Requirement already satisfied: rich>=10.11.0 in c:\\users\\akash\\anaconda3\\lib\\site-packages (from typer<1.0,>=0.12->gradio) (13.3.5)\n",
      "Requirement already satisfied: colorama in c:\\users\\akash\\anaconda3\\lib\\site-packages (from click>=8.0.0->typer<1.0,>=0.12->gradio) (0.4.6)\n",
      "Requirement already satisfied: six>=1.5 in c:\\users\\akash\\anaconda3\\lib\\site-packages (from python-dateutil>=2.8.2->pandas<3.0,>=1.0->gradio) (1.16.0)\n",
      "Requirement already satisfied: markdown-it-py<3.0.0,>=2.2.0 in c:\\users\\akash\\anaconda3\\lib\\site-packages (from rich>=10.11.0->typer<1.0,>=0.12->gradio) (2.2.0)\n",
      "Requirement already satisfied: pygments<3.0.0,>=2.13.0 in c:\\users\\akash\\anaconda3\\lib\\site-packages (from rich>=10.11.0->typer<1.0,>=0.12->gradio) (2.15.1)\n",
      "Requirement already satisfied: charset-normalizer<4,>=2 in c:\\users\\akash\\anaconda3\\lib\\site-packages (from requests->huggingface-hub>=0.25.1->gradio) (2.0.4)\n",
      "Requirement already satisfied: urllib3<3,>=1.21.1 in c:\\users\\akash\\anaconda3\\lib\\site-packages (from requests->huggingface-hub>=0.25.1->gradio) (2.2.2)\n",
      "Requirement already satisfied: mdurl~=0.1 in c:\\users\\akash\\anaconda3\\lib\\site-packages (from markdown-it-py<3.0.0,>=2.2.0->rich>=10.11.0->typer<1.0,>=0.12->gradio) (0.1.0)\n"
     ]
    }
   ],
   "source": [
    "!pip install gradio"
   ]
  },
  {
   "cell_type": "code",
   "execution_count": 1,
   "id": "144eb317-569b-43e9-b8a3-6f6b06796ee5",
   "metadata": {},
   "outputs": [],
   "source": [
    "import gradio as gr\n",
    "import pickle\n",
    "import warnings\n",
    "warnings.filterwarnings('ignore')"
   ]
  },
  {
   "cell_type": "code",
   "execution_count": 2,
   "id": "39ff885c-3397-48f0-bc1d-cc0529f1762a",
   "metadata": {},
   "outputs": [],
   "source": [
    "with open('final_model_gbm.pkl', 'rb') as file:\n",
    "    model = pickle.load(file)"
   ]
  },
  {
   "cell_type": "code",
   "execution_count": 3,
   "id": "57608da7-1d85-4423-90a2-b4700f362462",
   "metadata": {},
   "outputs": [
    {
     "data": {
      "text/plain": [
       "array(['Available_Extra_Rooms_in_Hospital', 'Department',\n",
       "       'Ward_Facility_Code', 'doctor_name', 'staff_available', 'gender',\n",
       "       'Type_of_Admission', 'Severity_of_Illness', 'health_conditions',\n",
       "       'Visitors_with_Patient', 'Insurance', 'Admission_Deposit',\n",
       "       'Age_Group'], dtype=object)"
      ]
     },
     "execution_count": 3,
     "metadata": {},
     "output_type": "execute_result"
    }
   ],
   "source": [
    "model.feature_names_in_"
   ]
  },
  {
   "cell_type": "code",
   "execution_count": 4,
   "id": "53737ab8-b7a1-45fc-9e23-395e74eecb89",
   "metadata": {},
   "outputs": [],
   "source": [
    "def prediction(axr,d,wfc,dn,sa,g,ta,si,hc,vp,i,ad,ag):\n",
    "    \n",
    "    input_data = [[axr,d,wfc,dn,sa,g,ta,si,hc,vp,i,ad,ag]]\n",
    "    \n",
    "    pred = model.predict(input_data)[0]\n",
    "    \n",
    "    if pred>0.5:\n",
    "        return f' The number of days stay is more likely to be high : no of days stay = {round(pred)}'\n",
    "    else:\n",
    "        return f' The number of days stay is less likely to be high : no of days stay = {round(pred)}'"
   ]
  },
  {
   "cell_type": "code",
   "execution_count": 5,
   "id": "4567eec1-f6f7-4e08-897d-4cf99cb0feb0",
   "metadata": {},
   "outputs": [
    {
     "name": "stdout",
     "output_type": "stream",
     "text": [
      "* Running on local URL:  http://127.0.0.1:7860\n",
      "\n",
      "To create a public link, set `share=True` in `launch()`.\n"
     ]
    },
    {
     "data": {
      "text/html": [
       "<div><iframe src=\"http://127.0.0.1:7860/\" width=\"100%\" height=\"500\" allow=\"autoplay; camera; microphone; clipboard-read; clipboard-write;\" frameborder=\"0\" allowfullscreen></iframe></div>"
      ],
      "text/plain": [
       "<IPython.core.display.HTML object>"
      ]
     },
     "metadata": {},
     "output_type": "display_data"
    },
    {
     "data": {
      "text/plain": []
     },
     "execution_count": 5,
     "metadata": {},
     "output_type": "execute_result"
    }
   ],
   "source": [
    "import gradio as gr\n",
    "\n",
    "iface = gr.Interface(\n",
    "    fn=prediction,\n",
    "    inputs=[\n",
    "        gr.Slider(minimum=0, maximum=30, step=1, label=\"What is the number of extra rooms available in the hospital?\"),\n",
    "        gr.Dropdown(choices=[\"gynecology\", \"radiotherapy\", \"anesthesia\", \"TB & Chest disease\", \"surgery\"], label=\"Which department?\"),\n",
    "        gr.Dropdown(choices=[\"D\", \"B\", \"E\", \"F\", \"A\", \"C\"], label=\"What is the Ward Facility Code?\"),\n",
    "        gr.Dropdown(choices=[\"Dr Sophia\", \"Dr Mark\", \"Dr Olivia\", \"Dr John\", \"Dr Sarah\", \"Dr Sam\", \"Dr Nathan\", \"Dr Simon\", \"Dr Isaac\"], label=\"What is the Doctor Name?\"),\n",
    "        gr.Slider(minimum=0, maximum=10, step=1, label=\"How many staff members are available?\"),\n",
    "        gr.Dropdown(choices=[\"Female\", \"Male\", \"Other\"], label=\"Gender\"),\n",
    "        gr.Dropdown(choices=[\"Trauma\", \"Emergency\", \"Urgent\"], label=\"What is the Type of Admission?\"),\n",
    "        gr.Dropdown(choices=[\"Minor\", \"Moderate\", \"Extreme\"], label=\"What is the Severity of Illness?\"),\n",
    "        gr.Dropdown(choices=[\"Other\", \"High Blood Pressure\", \"Diabetes\", \"Asthma\", \"Heart disease\"], label=\"What is the Type of Health Condition?\"),\n",
    "        gr.Slider(minimum=0, maximum=40, step=1, label=\"How many Visitors with the Patient?\"),\n",
    "        gr.Dropdown(choices=[\"Yes\", \"No\"], label=\"Does the patient have Insurance?\"),\n",
    "        gr.Slider(minimum=500, maximum=15000, step=250, label=\"How much is the Admission deposit?\"),\n",
    "        gr.Dropdown(choices=[\"Young\", \"Middle-aged\", \"Old\"], label=\"What is the age group the patient falls under?\")\n",
    "    ],\n",
    "    outputs=gr.Textbox(label=\"Prediction\"),\n",
    "    title=\"Patient Stay Prediction\",\n",
    "    description=\"This application will forecast the stay of a patient in the hospital.\",\n",
    "    allow_flagging=\"never\"\n",
    ")\n",
    "\n",
    "iface.launch()\n"
   ]
  },
  {
   "cell_type": "code",
   "execution_count": null,
   "id": "c7640f07-94c0-4c13-afca-24a5de36138b",
   "metadata": {},
   "outputs": [],
   "source": []
  },
  {
   "cell_type": "code",
   "execution_count": null,
   "id": "60bb79f5-647d-464f-812a-a22ebcaca999",
   "metadata": {},
   "outputs": [],
   "source": []
  }
 ],
 "metadata": {
  "kernelspec": {
   "display_name": "Python 3 (ipykernel)",
   "language": "python",
   "name": "python3"
  },
  "language_info": {
   "codemirror_mode": {
    "name": "ipython",
    "version": 3
   },
   "file_extension": ".py",
   "mimetype": "text/x-python",
   "name": "python",
   "nbconvert_exporter": "python",
   "pygments_lexer": "ipython3",
   "version": "3.12.4"
  }
 },
 "nbformat": 4,
 "nbformat_minor": 5
}
